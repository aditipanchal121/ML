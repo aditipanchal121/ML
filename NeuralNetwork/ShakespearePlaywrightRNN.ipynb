{
  "nbformat": 4,
  "nbformat_minor": 0,
  "metadata": {
    "kernelspec": {
      "display_name": "Python 3",
      "language": "python",
      "name": "python3"
    },
    "language_info": {
      "codemirror_mode": {
        "name": "ipython",
        "version": 3
      },
      "file_extension": ".py",
      "mimetype": "text/x-python",
      "name": "python",
      "nbconvert_exporter": "python",
      "pygments_lexer": "ipython3",
      "version": "3.7.6"
    },
    "colab": {
      "name": "Shakespeare Playwright.ipynb",
      "provenance": [],
      "collapsed_sections": [],
      "include_colab_link": true
    },
    "accelerator": "GPU"
  },
  "cells": [
    {
      "cell_type": "markdown",
      "metadata": {
        "id": "view-in-github",
        "colab_type": "text"
      },
      "source": [
        "<a href=\"https://colab.research.google.com/github/aditipanchal121/ML/blob/master/Shakespeare_Playwright_RNN.ipynb\" target=\"_parent\"><img src=\"https://colab.research.google.com/assets/colab-badge.svg\" alt=\"Open In Colab\"/></a>"
      ]
    },
    {
      "cell_type": "code",
      "metadata": {
        "id": "qTLEUIbO5DYr",
        "colab_type": "code",
        "colab": {}
      },
      "source": [
        "import warnings\n",
        "import os\n",
        "import tensorflow as tf\n",
        "import numpy as np\n",
        "\n",
        "warnings.filterwarnings('ignore')"
      ],
      "execution_count": 40,
      "outputs": []
    },
    {
      "cell_type": "code",
      "metadata": {
        "id": "C7cJvgtG5DZS",
        "colab_type": "code",
        "colab": {}
      },
      "source": [
        "path = tf.keras.utils.get_file('shakespeare.txt',\n",
        "                                       'https://storage.googleapis.com/download.tensorflow.org/data/shakespeare.txt')\n",
        "text = open(path, 'rb').read().decode(encoding='utf-8')"
      ],
      "execution_count": 41,
      "outputs": []
    },
    {
      "cell_type": "code",
      "metadata": {
        "id": "orCa6MSc5DZm",
        "colab_type": "code",
        "colab": {
          "base_uri": "https://localhost:8080/",
          "height": 299
        },
        "outputId": "d4ba395b-b18a-48b0-cd16-4cda55d90c32"
      },
      "source": [
        "print(\"Length of text {} characters\" .format(len(text)))\n",
        "print(text[:250])\n"
      ],
      "execution_count": 42,
      "outputs": [
        {
          "output_type": "stream",
          "text": [
            "Length of text 1115394 characters\n",
            "First Citizen:\n",
            "Before we proceed any further, hear me speak.\n",
            "\n",
            "All:\n",
            "Speak, speak.\n",
            "\n",
            "First Citizen:\n",
            "You are all resolved rather to die than to famish?\n",
            "\n",
            "All:\n",
            "Resolved. resolved.\n",
            "\n",
            "First Citizen:\n",
            "First, you know Caius Marcius is chief enemy to the people.\n",
            "\n"
          ],
          "name": "stdout"
        }
      ]
    },
    {
      "cell_type": "code",
      "metadata": {
        "id": "-WBpAnHY5DaJ",
        "colab_type": "code",
        "colab": {
          "base_uri": "https://localhost:8080/",
          "height": 35
        },
        "outputId": "840f7104-7135-4635-c001-430148ff0c70"
      },
      "source": [
        "vocab = sorted(set(text))\n",
        "print('{} unique characters'.format(len(vocab)))"
      ],
      "execution_count": 43,
      "outputs": [
        {
          "output_type": "stream",
          "text": [
            "65 unique characters\n"
          ],
          "name": "stdout"
        }
      ]
    },
    {
      "cell_type": "code",
      "metadata": {
        "id": "gc4m_GoM5Daq",
        "colab_type": "code",
        "colab": {}
      },
      "source": [
        "char2idx = {u:idx for idx, u in enumerate(vocab)}\n",
        "idx2char = np.array(vocab)\n",
        "textAsInt = np.array([char2idx[char] for char in text])"
      ],
      "execution_count": 44,
      "outputs": []
    },
    {
      "cell_type": "code",
      "metadata": {
        "id": "HmD3kY7-5Da0",
        "colab_type": "code",
        "colab": {
          "base_uri": "https://localhost:8080/",
          "height": 457
        },
        "outputId": "1fe29a3a-8397-4d1e-d691-9087f851289e"
      },
      "source": [
        "print(\"{\")\n",
        "for char, _ in zip(char2idx, range(20)):\n",
        "    print(\"    {:4s}: {:3d}\".format(repr(char), char2idx[char]))\n",
        "print(\"}\\n....\\n\")\n",
        "\n",
        "print('{}  ------> characters mapped to int -----> {}'.format(repr(text[:13]),\n",
        "                                                             textAsInt[:13]))"
      ],
      "execution_count": 45,
      "outputs": [
        {
          "output_type": "stream",
          "text": [
            "{\n",
            "    '\\n':   0\n",
            "    ' ' :   1\n",
            "    '!' :   2\n",
            "    '$' :   3\n",
            "    '&' :   4\n",
            "    \"'\" :   5\n",
            "    ',' :   6\n",
            "    '-' :   7\n",
            "    '.' :   8\n",
            "    '3' :   9\n",
            "    ':' :  10\n",
            "    ';' :  11\n",
            "    '?' :  12\n",
            "    'A' :  13\n",
            "    'B' :  14\n",
            "    'C' :  15\n",
            "    'D' :  16\n",
            "    'E' :  17\n",
            "    'F' :  18\n",
            "    'G' :  19\n",
            "}\n",
            "....\n",
            "\n",
            "'First Citizen'  ------> characters mapped to int -----> [18 47 56 57 58  1 15 47 58 47 64 43 52]\n"
          ],
          "name": "stdout"
        }
      ]
    },
    {
      "cell_type": "markdown",
      "metadata": {
        "id": "MBMZZMRF5DbT",
        "colab_type": "text"
      },
      "source": [
        "# Readying Data"
      ]
    },
    {
      "cell_type": "code",
      "metadata": {
        "id": "sN2aN-Ic5DbY",
        "colab_type": "code",
        "colab": {}
      },
      "source": [
        "seqLength = 100\n",
        "examplesPerEpoch = len(text) // (seqLength + 1)\n",
        "\n",
        "charDataset = tf.data.Dataset.from_tensor_slices(textAsInt)"
      ],
      "execution_count": 46,
      "outputs": []
    },
    {
      "cell_type": "code",
      "metadata": {
        "id": "B5xmeHWH5Dbm",
        "colab_type": "code",
        "colab": {
          "base_uri": "https://localhost:8080/",
          "height": 105
        },
        "outputId": "0a2693d6-b468-4fc1-a5c6-2bc3f84bd17b"
      },
      "source": [
        "for i in charDataset.take(5):\n",
        "    print(idx2char[i.numpy()])"
      ],
      "execution_count": 47,
      "outputs": [
        {
          "output_type": "stream",
          "text": [
            "F\n",
            "i\n",
            "r\n",
            "s\n",
            "t\n"
          ],
          "name": "stdout"
        }
      ]
    },
    {
      "cell_type": "code",
      "metadata": {
        "id": "tbUiwQxY5DcO",
        "colab_type": "code",
        "colab": {}
      },
      "source": [
        "sequences = charDataset.batch(seqLength + 1, drop_remainder=True)"
      ],
      "execution_count": 48,
      "outputs": []
    },
    {
      "cell_type": "code",
      "metadata": {
        "id": "9tMRXn345Dcq",
        "colab_type": "code",
        "colab": {
          "base_uri": "https://localhost:8080/",
          "height": 105
        },
        "outputId": "1e78c3cd-0edf-4f04-e2e3-f7f19ed0363d"
      },
      "source": [
        "for item in sequences.take(5):\n",
        "    print(repr(\"\".join(idx2char[item.numpy()])))\n",
        "    "
      ],
      "execution_count": 49,
      "outputs": [
        {
          "output_type": "stream",
          "text": [
            "'First Citizen:\\nBefore we proceed any further, hear me speak.\\n\\nAll:\\nSpeak, speak.\\n\\nFirst Citizen:\\nYou '\n",
            "'are all resolved rather to die than to famish?\\n\\nAll:\\nResolved. resolved.\\n\\nFirst Citizen:\\nFirst, you k'\n",
            "\"now Caius Marcius is chief enemy to the people.\\n\\nAll:\\nWe know't, we know't.\\n\\nFirst Citizen:\\nLet us ki\"\n",
            "\"ll him, and we'll have corn at our own price.\\nIs't a verdict?\\n\\nAll:\\nNo more talking on't; let it be d\"\n",
            "'one: away, away!\\n\\nSecond Citizen:\\nOne word, good citizens.\\n\\nFirst Citizen:\\nWe are accounted poor citi'\n"
          ],
          "name": "stdout"
        }
      ]
    },
    {
      "cell_type": "code",
      "metadata": {
        "id": "ZjD8LV4V5Dcz",
        "colab_type": "code",
        "colab": {}
      },
      "source": [
        "def splitInputTarget(chunk):\n",
        "    inputText = chunk[:-1]\n",
        "    targetText = chunk[1:]\n",
        "    return inputText, targetText"
      ],
      "execution_count": 50,
      "outputs": []
    },
    {
      "cell_type": "code",
      "metadata": {
        "id": "hFftVo_55DdF",
        "colab_type": "code",
        "colab": {}
      },
      "source": [
        "dataset = sequences.map(splitInputTarget)"
      ],
      "execution_count": 51,
      "outputs": []
    },
    {
      "cell_type": "code",
      "metadata": {
        "id": "jip4zf0Q5DdW",
        "colab_type": "code",
        "colab": {
          "base_uri": "https://localhost:8080/",
          "height": 52
        },
        "outputId": "e7463490-6aa9-4999-d43b-2e110227c9bb"
      },
      "source": [
        "for inputEx, targetEx in dataset.take(1):\n",
        "    print(\"Input data: \", repr(\"\".join(idx2char[inputEx.numpy()])))\n",
        "    print(\"Target data: \", repr(\"\".join(idx2char[targetEx.numpy()])))"
      ],
      "execution_count": 52,
      "outputs": [
        {
          "output_type": "stream",
          "text": [
            "Input data:  'First Citizen:\\nBefore we proceed any further, hear me speak.\\n\\nAll:\\nSpeak, speak.\\n\\nFirst Citizen:\\nYou'\n",
            "Target data:  'irst Citizen:\\nBefore we proceed any further, hear me speak.\\n\\nAll:\\nSpeak, speak.\\n\\nFirst Citizen:\\nYou '\n"
          ],
          "name": "stdout"
        }
      ]
    },
    {
      "cell_type": "code",
      "metadata": {
        "id": "bHYYrvaT5Ddk",
        "colab_type": "code",
        "colab": {
          "base_uri": "https://localhost:8080/",
          "height": 281
        },
        "outputId": "1a246941-286a-4e36-bac2-d885dc917da4"
      },
      "source": [
        "for i, (inputIdx, targetIdx) in enumerate(zip(inputEx[:5], targetEx[:5])):\n",
        "    print(\"step {:4d}\".format(i))\n",
        "    print(\"  input {} ({:s})\".format(inputIdx, repr(idx2char[inputIdx])))\n",
        "    print(\"  expected output {} ({:s})\".format(targetIdx, repr(idx2char[targetIdx])))\n",
        "    \n",
        "    "
      ],
      "execution_count": 53,
      "outputs": [
        {
          "output_type": "stream",
          "text": [
            "step    0\n",
            "  input 18 ('F')\n",
            "  expected output 47 ('i')\n",
            "step    1\n",
            "  input 47 ('i')\n",
            "  expected output 56 ('r')\n",
            "step    2\n",
            "  input 56 ('r')\n",
            "  expected output 57 ('s')\n",
            "step    3\n",
            "  input 57 ('s')\n",
            "  expected output 58 ('t')\n",
            "step    4\n",
            "  input 58 ('t')\n",
            "  expected output 1 (' ')\n"
          ],
          "name": "stdout"
        }
      ]
    },
    {
      "cell_type": "markdown",
      "metadata": {
        "id": "sOIZ1WVL5Ddy",
        "colab_type": "text"
      },
      "source": [
        "Creating Training Sets"
      ]
    },
    {
      "cell_type": "code",
      "metadata": {
        "id": "v6qtbO2B5Dd-",
        "colab_type": "code",
        "colab": {
          "base_uri": "https://localhost:8080/",
          "height": 35
        },
        "outputId": "c4bc5a53-6d8a-4065-f277-946527482d1e"
      },
      "source": [
        "batchSize = 64\n",
        "bufSize = 10000\n",
        "\n",
        "dataset = dataset.shuffle(bufSize).batch(batchSize, drop_remainder=True)\n",
        "\n",
        "print(dataset)"
      ],
      "execution_count": 54,
      "outputs": [
        {
          "output_type": "stream",
          "text": [
            "<BatchDataset shapes: ((64, 100), (64, 100)), types: (tf.int64, tf.int64)>\n"
          ],
          "name": "stdout"
        }
      ]
    },
    {
      "cell_type": "code",
      "metadata": {
        "id": "3T_qM19f5DeY",
        "colab_type": "code",
        "colab": {}
      },
      "source": [
        "vocabSize = len(vocab)\n",
        "embeddingDim = 256\n",
        "rnnUnits = 1024"
      ],
      "execution_count": 55,
      "outputs": []
    },
    {
      "cell_type": "markdown",
      "metadata": {
        "id": "2slNiKWZ5Deq",
        "colab_type": "text"
      },
      "source": [
        "# BUILDING MODEL"
      ]
    },
    {
      "cell_type": "code",
      "metadata": {
        "id": "NDqdwITj5Des",
        "colab_type": "code",
        "colab": {}
      },
      "source": [
        "def buildModel(vocabSize, embeddingDim, rnnUnits, batchSize):\n",
        "    model = tf.keras.Sequential([\n",
        "        tf.keras.layers.Embedding(vocabSize, embeddingDim, batch_input_shape=[batchSize, None]),\n",
        "        tf.keras.layers.GRU(rnnUnits, return_sequences=True, stateful=True,\n",
        "                           recurrent_initializer=\"glorot_uniform\"),\n",
        "        tf.keras.layers.Dense(vocabSize)\n",
        "    ])\n",
        "    \n",
        "    return model"
      ],
      "execution_count": 56,
      "outputs": []
    },
    {
      "cell_type": "code",
      "metadata": {
        "id": "7c71CKqx5DfK",
        "colab_type": "code",
        "colab": {}
      },
      "source": [
        "model = buildModel(vocabSize=len(vocab), embeddingDim =embeddingDim, rnnUnits=rnnUnits, batchSize=batchSize)"
      ],
      "execution_count": 57,
      "outputs": []
    },
    {
      "cell_type": "code",
      "metadata": {
        "id": "y37UNDX55DfT",
        "colab_type": "code",
        "colab": {
          "base_uri": "https://localhost:8080/",
          "height": 35
        },
        "outputId": "2a783ffa-e7a1-4012-b149-0207864e146c"
      },
      "source": [
        "for input_example_batch, target_example_batch in dataset.take(1):\n",
        "  example_batch_predictions = model(input_example_batch)\n",
        "  print(example_batch_predictions.shape, \"# (batch_size, sequence_length, vocab_size)\")"
      ],
      "execution_count": 58,
      "outputs": [
        {
          "output_type": "stream",
          "text": [
            "(64, 100, 65) # (batch_size, sequence_length, vocab_size)\n"
          ],
          "name": "stdout"
        }
      ]
    },
    {
      "cell_type": "code",
      "metadata": {
        "scrolled": true,
        "id": "4_deZc7f5Dfe",
        "colab_type": "code",
        "colab": {
          "base_uri": "https://localhost:8080/",
          "height": 263
        },
        "outputId": "766e098d-24d0-4abe-fd01-57f9c45c9be6"
      },
      "source": [
        "model.summary()"
      ],
      "execution_count": 59,
      "outputs": [
        {
          "output_type": "stream",
          "text": [
            "Model: \"sequential_2\"\n",
            "_________________________________________________________________\n",
            "Layer (type)                 Output Shape              Param #   \n",
            "=================================================================\n",
            "embedding_2 (Embedding)      (64, None, 256)           16640     \n",
            "_________________________________________________________________\n",
            "gru_2 (GRU)                  (64, None, 1024)          3938304   \n",
            "_________________________________________________________________\n",
            "dense_2 (Dense)              (64, None, 65)            66625     \n",
            "=================================================================\n",
            "Total params: 4,021,569\n",
            "Trainable params: 4,021,569\n",
            "Non-trainable params: 0\n",
            "_________________________________________________________________\n"
          ],
          "name": "stdout"
        }
      ]
    },
    {
      "cell_type": "code",
      "metadata": {
        "id": "bTCThs0j5DgE",
        "colab_type": "code",
        "colab": {
          "base_uri": "https://localhost:8080/",
          "height": 105
        },
        "outputId": "a3769fd9-a4ed-46a2-aeb9-58a9add7ee35"
      },
      "source": [
        "sampled_indices = tf.random.categorical(example_batch_predictions[0], num_samples=1)\n",
        "sampled_indices = tf.squeeze(sampled_indices,axis=-1).numpy()\n",
        "print(sampled_indices)"
      ],
      "execution_count": 60,
      "outputs": [
        {
          "output_type": "stream",
          "text": [
            "[64 18 41  5 58 36 60 53 20  2 13 52 20 20 12 25  4 13 19 60 27 29 45 41\n",
            " 33 46 60  2 51 47 49 22 13 47 13  8 11 53 36 54 36 17 20 12 47 37 26  7\n",
            " 27 64 14 49 42 38  1 14  8  0  1  9 58 21  5 61 40 14 23 42  6 57  4 47\n",
            " 25 43 15  0 56 62  7 61 59  7 25 51 63 47 20 45 26 20 56 50 49 57 45 47\n",
            " 19 49 58 51]\n"
          ],
          "name": "stdout"
        }
      ]
    },
    {
      "cell_type": "code",
      "metadata": {
        "id": "x1-OEFyv5DgR",
        "colab_type": "code",
        "colab": {
          "base_uri": "https://localhost:8080/",
          "height": 105
        },
        "outputId": "4d15ba2c-4d20-4b68-cf78-0327c6d76691"
      },
      "source": [
        "print(\"Input: \\n\", repr(\"\".join(idx2char[input_example_batch[0]])))\n",
        "print()\n",
        "print(\"Next Char Predictions: \\n\", repr(\"\".join(idx2char[sampled_indices ])))"
      ],
      "execution_count": 61,
      "outputs": [
        {
          "output_type": "stream",
          "text": [
            "Input: \n",
            " \"ure keeps in grief:\\nTherefore, no dancing, girl; some other sport.\\n\\nLady:\\nMadam, we'll tell tales.\\n\\n\"\n",
            "\n",
            "Next Char Predictions: \n",
            " \"zFc'tXvoH!AnHH?M&AGvOQgcUhv!mikJAiA.;oXpXEH?iYN-OzBkdZ B.\\n 3tI'wbBKd,s&iMeC\\nrx-wu-MmyiHgNHrlksgiGktm\"\n"
          ],
          "name": "stdout"
        }
      ]
    },
    {
      "cell_type": "code",
      "metadata": {
        "id": "U1JzxWH75Dgc",
        "colab_type": "code",
        "colab": {}
      },
      "source": [
        "def loss(labels, logits):\n",
        "    return tf.keras.losses.sparse_categorical_crossentropy(labels, \n",
        "                                                           logits, \n",
        "                                                           from_logits=True)"
      ],
      "execution_count": 62,
      "outputs": []
    },
    {
      "cell_type": "code",
      "metadata": {
        "id": "_bREWH-s5Dgr",
        "colab_type": "code",
        "colab": {
          "base_uri": "https://localhost:8080/",
          "height": 52
        },
        "outputId": "16159aa2-4b00-43da-f65c-bef9ab819050"
      },
      "source": [
        "example_batch_loss  = loss(target_example_batch, example_batch_predictions)\n",
        "print(\"Prediction shape: \", example_batch_predictions.shape, \" # (batch_size, sequence_length, vocab_size)\")\n",
        "print(\"scalar_loss:      \", example_batch_loss.numpy().mean())"
      ],
      "execution_count": 63,
      "outputs": [
        {
          "output_type": "stream",
          "text": [
            "Prediction shape:  (64, 100, 65)  # (batch_size, sequence_length, vocab_size)\n",
            "scalar_loss:       4.1759076\n"
          ],
          "name": "stdout"
        }
      ]
    },
    {
      "cell_type": "markdown",
      "metadata": {
        "id": "_GfiU10D5Dg3",
        "colab_type": "text"
      },
      "source": [
        "# TRAINING MODEL"
      ]
    },
    {
      "cell_type": "code",
      "metadata": {
        "id": "xLkSHpzH5Dg5",
        "colab_type": "code",
        "colab": {}
      },
      "source": [
        "model.compile(optimizer=\"adam\", loss=loss)"
      ],
      "execution_count": 64,
      "outputs": []
    },
    {
      "cell_type": "code",
      "metadata": {
        "id": "1vQRUvrk5DhD",
        "colab_type": "code",
        "colab": {}
      },
      "source": [
        "# Directory where the checkpoints will be saved\n",
        "checkpoint_dir = './training_checkpoints'\n",
        "# Name of the checkpoint files\n",
        "checkpoint_prefix = os.path.join(checkpoint_dir, \"ckpt_{epoch}\")\n",
        "\n",
        "checkpoint_callback=tf.keras.callbacks.ModelCheckpoint(\n",
        "    filepath=checkpoint_prefix,\n",
        "    save_weights_only=True)"
      ],
      "execution_count": 65,
      "outputs": []
    },
    {
      "cell_type": "code",
      "metadata": {
        "id": "iKVDjWsl5DhN",
        "colab_type": "code",
        "colab": {}
      },
      "source": [
        "EPOCHS = 50"
      ],
      "execution_count": 66,
      "outputs": []
    },
    {
      "cell_type": "code",
      "metadata": {
        "id": "jJilSTfV5DhV",
        "colab_type": "code",
        "colab": {
          "base_uri": "https://localhost:8080/",
          "height": 1000
        },
        "outputId": "d2171026-e3d4-490f-889d-53736de7b8e8"
      },
      "source": [
        "history = model.fit(dataset, epochs=EPOCHS, callbacks=[checkpoint_callback])"
      ],
      "execution_count": 67,
      "outputs": [
        {
          "output_type": "stream",
          "text": [
            "Epoch 1/50\n",
            "172/172 [==============================] - 22s 127ms/step - loss: 2.6427\n",
            "Epoch 2/50\n",
            "172/172 [==============================] - 22s 126ms/step - loss: 1.9442\n",
            "Epoch 3/50\n",
            "172/172 [==============================] - 22s 127ms/step - loss: 1.6787\n",
            "Epoch 4/50\n",
            "172/172 [==============================] - 22s 127ms/step - loss: 1.5340\n",
            "Epoch 5/50\n",
            "172/172 [==============================] - 22s 127ms/step - loss: 1.4488\n",
            "Epoch 6/50\n",
            "172/172 [==============================] - 22s 127ms/step - loss: 1.3895\n",
            "Epoch 7/50\n",
            "172/172 [==============================] - 22s 127ms/step - loss: 1.3459\n",
            "Epoch 8/50\n",
            "172/172 [==============================] - 22s 127ms/step - loss: 1.3078\n",
            "Epoch 9/50\n",
            "172/172 [==============================] - 22s 127ms/step - loss: 1.2736\n",
            "Epoch 10/50\n",
            "172/172 [==============================] - 22s 126ms/step - loss: 1.2405\n",
            "Epoch 11/50\n",
            "172/172 [==============================] - 22s 126ms/step - loss: 1.2076\n",
            "Epoch 12/50\n",
            "172/172 [==============================] - 22s 126ms/step - loss: 1.1756\n",
            "Epoch 13/50\n",
            "172/172 [==============================] - 22s 126ms/step - loss: 1.1415\n",
            "Epoch 14/50\n",
            "172/172 [==============================] - 22s 126ms/step - loss: 1.1079\n",
            "Epoch 15/50\n",
            "172/172 [==============================] - 22s 127ms/step - loss: 1.0741\n",
            "Epoch 16/50\n",
            "172/172 [==============================] - 22s 126ms/step - loss: 1.0374\n",
            "Epoch 17/50\n",
            "172/172 [==============================] - 22s 126ms/step - loss: 1.0032\n",
            "Epoch 18/50\n",
            "172/172 [==============================] - 22s 126ms/step - loss: 0.9655\n",
            "Epoch 19/50\n",
            "172/172 [==============================] - 22s 126ms/step - loss: 0.9317\n",
            "Epoch 20/50\n",
            "172/172 [==============================] - 22s 126ms/step - loss: 0.8985\n",
            "Epoch 21/50\n",
            "172/172 [==============================] - 22s 126ms/step - loss: 0.8673\n",
            "Epoch 22/50\n",
            "172/172 [==============================] - 22s 126ms/step - loss: 0.8377\n",
            "Epoch 23/50\n",
            "172/172 [==============================] - 22s 126ms/step - loss: 0.8117\n",
            "Epoch 24/50\n",
            "172/172 [==============================] - 22s 126ms/step - loss: 0.7870\n",
            "Epoch 25/50\n",
            "172/172 [==============================] - 22s 126ms/step - loss: 0.7661\n",
            "Epoch 26/50\n",
            "172/172 [==============================] - 22s 126ms/step - loss: 0.7486\n",
            "Epoch 27/50\n",
            "172/172 [==============================] - 22s 126ms/step - loss: 0.7328\n",
            "Epoch 28/50\n",
            "172/172 [==============================] - 22s 126ms/step - loss: 0.7175\n",
            "Epoch 29/50\n",
            "172/172 [==============================] - 22s 126ms/step - loss: 0.7055\n",
            "Epoch 30/50\n",
            "172/172 [==============================] - 22s 126ms/step - loss: 0.6948\n",
            "Epoch 31/50\n",
            "172/172 [==============================] - 22s 126ms/step - loss: 0.6885\n",
            "Epoch 32/50\n",
            "172/172 [==============================] - 22s 126ms/step - loss: 0.6808\n",
            "Epoch 33/50\n",
            "172/172 [==============================] - 22s 126ms/step - loss: 0.6717\n",
            "Epoch 34/50\n",
            "172/172 [==============================] - 22s 126ms/step - loss: 0.6657\n",
            "Epoch 35/50\n",
            "172/172 [==============================] - 22s 126ms/step - loss: 0.6626\n",
            "Epoch 36/50\n",
            "172/172 [==============================] - 22s 126ms/step - loss: 0.6568\n",
            "Epoch 37/50\n",
            "172/172 [==============================] - 22s 126ms/step - loss: 0.6506\n",
            "Epoch 38/50\n",
            "172/172 [==============================] - 22s 126ms/step - loss: 0.6473\n",
            "Epoch 39/50\n",
            "172/172 [==============================] - 22s 126ms/step - loss: 0.6475\n",
            "Epoch 40/50\n",
            "172/172 [==============================] - 22s 126ms/step - loss: 0.6423\n",
            "Epoch 41/50\n",
            "172/172 [==============================] - 22s 126ms/step - loss: 0.6407\n",
            "Epoch 42/50\n",
            "172/172 [==============================] - 22s 126ms/step - loss: 0.6420\n",
            "Epoch 43/50\n",
            "172/172 [==============================] - 22s 126ms/step - loss: 0.6391\n",
            "Epoch 44/50\n",
            "172/172 [==============================] - 22s 126ms/step - loss: 0.6407\n",
            "Epoch 45/50\n",
            "172/172 [==============================] - 22s 126ms/step - loss: 0.6398\n",
            "Epoch 46/50\n",
            "172/172 [==============================] - 22s 126ms/step - loss: 0.6396\n",
            "Epoch 47/50\n",
            "172/172 [==============================] - 22s 126ms/step - loss: 0.6393\n",
            "Epoch 48/50\n",
            "172/172 [==============================] - 22s 126ms/step - loss: 0.6413\n",
            "Epoch 49/50\n",
            "172/172 [==============================] - 22s 126ms/step - loss: 0.6410\n",
            "Epoch 50/50\n",
            "172/172 [==============================] - 22s 126ms/step - loss: 0.6420\n"
          ],
          "name": "stdout"
        }
      ]
    },
    {
      "cell_type": "markdown",
      "metadata": {
        "id": "lHWAoXDB5Dhh",
        "colab_type": "text"
      },
      "source": [
        "# PREDICTION"
      ]
    },
    {
      "cell_type": "code",
      "metadata": {
        "id": "SifQ9NGR5Dhp",
        "colab_type": "code",
        "colab": {
          "base_uri": "https://localhost:8080/",
          "height": 263
        },
        "outputId": "1e65ffc3-f62f-499d-9f9b-5d2d9e1fdbb1"
      },
      "source": [
        "model = buildModel(vocabSize, embeddingDim, rnnUnits, batchSize=1)\n",
        "model.load_weights(tf.train.latest_checkpoint(checkpoint_dir))\n",
        "model.build(tf.TensorShape([1, None]))\n",
        "model.summary()"
      ],
      "execution_count": 68,
      "outputs": [
        {
          "output_type": "stream",
          "text": [
            "Model: \"sequential_3\"\n",
            "_________________________________________________________________\n",
            "Layer (type)                 Output Shape              Param #   \n",
            "=================================================================\n",
            "embedding_3 (Embedding)      (1, None, 256)            16640     \n",
            "_________________________________________________________________\n",
            "gru_3 (GRU)                  (1, None, 1024)           3938304   \n",
            "_________________________________________________________________\n",
            "dense_3 (Dense)              (1, None, 65)             66625     \n",
            "=================================================================\n",
            "Total params: 4,021,569\n",
            "Trainable params: 4,021,569\n",
            "Non-trainable params: 0\n",
            "_________________________________________________________________\n"
          ],
          "name": "stdout"
        }
      ]
    },
    {
      "cell_type": "code",
      "metadata": {
        "id": "MaRlISFu5Dh1",
        "colab_type": "code",
        "colab": {}
      },
      "source": [
        "def generateText(model, startString):\n",
        "    numGen = 500\n",
        "    inputEval = [char2idx[s] for s in startString]\n",
        "    inputEval = tf.expand_dims(inputEval, 0)\n",
        "    \n",
        "    textGen = []\n",
        "    temperature = 1.0\n",
        "    \n",
        "    model.reset_states()\n",
        "    \n",
        "    for i in range(numGen):\n",
        "        predictions = model(inputEval)\n",
        "        predictions = tf.squeeze(predictions, 0)\n",
        "        predictions /= temperature\n",
        "        predictedId = tf.random.categorical(predictions, num_samples=1)[-1,0].numpy()\n",
        "        \n",
        "        inputEval = tf.expand_dims([predictedId], 0)\n",
        "        textGen.append(idx2char[predictedId])\n",
        "        \n",
        "    return (startString + \"\".join(textGen))"
      ],
      "execution_count": 69,
      "outputs": []
    },
    {
      "cell_type": "code",
      "metadata": {
        "id": "ejkHZcoX5Diq",
        "colab_type": "code",
        "colab": {
          "base_uri": "https://localhost:8080/",
          "height": 351
        },
        "outputId": "fa5c681f-2db5-413e-cd06-41b46d9d6a23"
      },
      "source": [
        "print(generateText(model, startString =\"HAMLET: \"))"
      ],
      "execution_count": 70,
      "outputs": [
        {
          "output_type": "stream",
          "text": [
            "HAMLET: marry, Peace! O pity hath been\n",
            "A book of prayer, be but testimonied\n",
            "Are plebeians I'll kiss the city,\n",
            "Or never bear this mercy if you fled to pieces.\n",
            "Will you are welcome but he's so perfidion: but hadst thou there?\n",
            "\n",
            "LUCIO:\n",
            "This is an hour nothing.\n",
            "\n",
            "MERCUTIO:\n",
            "And for our reasons are tupoffent.\n",
            "\n",
            "GLOUCESTER:\n",
            "\n",
            "KING EDWARD IV:\n",
            "Welcome, my lord; I am a rage\n",
            "To bear the advantage thou twint on court'sied Henry lived:\n",
            "Seld of imprisonments: therefore, noble lord,\n",
            "Nor turns the devout religious mouther \n"
          ],
          "name": "stdout"
        }
      ]
    },
    {
      "cell_type": "code",
      "metadata": {
        "id": "TZkBGP5g5Diz",
        "colab_type": "code",
        "colab": {}
      },
      "source": [
        ""
      ],
      "execution_count": 70,
      "outputs": []
    }
  ]
}
