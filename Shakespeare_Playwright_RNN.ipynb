{
  "nbformat": 4,
  "nbformat_minor": 0,
  "metadata": {
    "kernelspec": {
      "display_name": "Python 3",
      "language": "python",
      "name": "python3"
    },
    "language_info": {
      "codemirror_mode": {
        "name": "ipython",
        "version": 3
      },
      "file_extension": ".py",
      "mimetype": "text/x-python",
      "name": "python",
      "nbconvert_exporter": "python",
      "pygments_lexer": "ipython3",
      "version": "3.7.6"
    },
    "colab": {
      "name": "Shakespeare Playwright.ipynb",
      "provenance": [],
      "collapsed_sections": [],
      "include_colab_link": true
    },
    "accelerator": "GPU"
  },
  "cells": [
    {
      "cell_type": "markdown",
      "metadata": {
        "id": "view-in-github",
        "colab_type": "text"
      },
      "source": [
        "<a href=\"https://colab.research.google.com/github/aditipanchal121/ML/blob/master/Shakespeare_Playwright_RNN.ipynb\" target=\"_parent\"><img src=\"https://colab.research.google.com/assets/colab-badge.svg\" alt=\"Open In Colab\"/></a>"
      ]
    },
    {
      "cell_type": "code",
      "metadata": {
        "id": "qTLEUIbO5DYr",
        "colab_type": "code",
        "colab": {}
      },
      "source": [
        "import warnings\n",
        "import os\n",
        "import tensorflow as tf\n",
        "import numpy as np\n",
        "\n",
        "warnings.filterwarnings('ignore')"
      ],
      "execution_count": 113,
      "outputs": []
    },
    {
      "cell_type": "code",
      "metadata": {
        "id": "C7cJvgtG5DZS",
        "colab_type": "code",
        "colab": {}
      },
      "source": [
        "path = tf.keras.utils.get_file('shakespeare.txt',\n",
        "                                       'https://storage.googleapis.com/download.tensorflow.org/data/shakespeare.txt')\n",
        "text = open(path, 'rb').read().decode(encoding='utf-8')"
      ],
      "execution_count": 114,
      "outputs": []
    },
    {
      "cell_type": "code",
      "metadata": {
        "id": "orCa6MSc5DZm",
        "colab_type": "code",
        "colab": {
          "base_uri": "https://localhost:8080/",
          "height": 299
        },
        "outputId": "ebd17cf0-848c-4ec5-8775-9b9c8485f1c6"
      },
      "source": [
        "print(\"Length of text {} characters\" .format(len(text)))\n",
        "print(text[:250])\n"
      ],
      "execution_count": 115,
      "outputs": [
        {
          "output_type": "stream",
          "text": [
            "Length of text 1115394 characters\n",
            "First Citizen:\n",
            "Before we proceed any further, hear me speak.\n",
            "\n",
            "All:\n",
            "Speak, speak.\n",
            "\n",
            "First Citizen:\n",
            "You are all resolved rather to die than to famish?\n",
            "\n",
            "All:\n",
            "Resolved. resolved.\n",
            "\n",
            "First Citizen:\n",
            "First, you know Caius Marcius is chief enemy to the people.\n",
            "\n"
          ],
          "name": "stdout"
        }
      ]
    },
    {
      "cell_type": "code",
      "metadata": {
        "id": "-WBpAnHY5DaJ",
        "colab_type": "code",
        "colab": {
          "base_uri": "https://localhost:8080/",
          "height": 35
        },
        "outputId": "48201c6b-7d4d-4cbb-a5f6-dabb9178de8f"
      },
      "source": [
        "vocab = sorted(set(text))\n",
        "print('{} unique characters'.format(len(vocab)))"
      ],
      "execution_count": 116,
      "outputs": [
        {
          "output_type": "stream",
          "text": [
            "65 unique characters\n"
          ],
          "name": "stdout"
        }
      ]
    },
    {
      "cell_type": "code",
      "metadata": {
        "id": "gc4m_GoM5Daq",
        "colab_type": "code",
        "colab": {}
      },
      "source": [
        "char2idx = {u:idx for idx, u in enumerate(vocab)}\n",
        "idx2char = np.array(vocab)\n",
        "textAsInt = np.array([char2idx[char] for char in text])"
      ],
      "execution_count": 117,
      "outputs": []
    },
    {
      "cell_type": "code",
      "metadata": {
        "id": "HmD3kY7-5Da0",
        "colab_type": "code",
        "colab": {
          "base_uri": "https://localhost:8080/",
          "height": 457
        },
        "outputId": "d2d62618-b4a4-419f-b514-20b9be339760"
      },
      "source": [
        "print(\"{\")\n",
        "for char, _ in zip(char2idx, range(20)):\n",
        "    print(\"    {:4s}: {:3d}\".format(repr(char), char2idx[char]))\n",
        "print(\"}\\n....\\n\")\n",
        "\n",
        "print('{}  ------> characters mapped to int -----> {}'.format(repr(text[:13]),\n",
        "                                                             textAsInt[:13]))"
      ],
      "execution_count": 118,
      "outputs": [
        {
          "output_type": "stream",
          "text": [
            "{\n",
            "    '\\n':   0\n",
            "    ' ' :   1\n",
            "    '!' :   2\n",
            "    '$' :   3\n",
            "    '&' :   4\n",
            "    \"'\" :   5\n",
            "    ',' :   6\n",
            "    '-' :   7\n",
            "    '.' :   8\n",
            "    '3' :   9\n",
            "    ':' :  10\n",
            "    ';' :  11\n",
            "    '?' :  12\n",
            "    'A' :  13\n",
            "    'B' :  14\n",
            "    'C' :  15\n",
            "    'D' :  16\n",
            "    'E' :  17\n",
            "    'F' :  18\n",
            "    'G' :  19\n",
            "}\n",
            "....\n",
            "\n",
            "'First Citizen'  ------> characters mapped to int -----> [18 47 56 57 58  1 15 47 58 47 64 43 52]\n"
          ],
          "name": "stdout"
        }
      ]
    },
    {
      "cell_type": "markdown",
      "metadata": {
        "id": "MBMZZMRF5DbT",
        "colab_type": "text"
      },
      "source": [
        "# Readying Data"
      ]
    },
    {
      "cell_type": "code",
      "metadata": {
        "id": "sN2aN-Ic5DbY",
        "colab_type": "code",
        "colab": {}
      },
      "source": [
        "seqLength = 100\n",
        "examplesPerEpoch = len(text) // (seqLength + 1)\n",
        "\n",
        "charDataset = tf.data.Dataset.from_tensor_slices(textAsInt)"
      ],
      "execution_count": 119,
      "outputs": []
    },
    {
      "cell_type": "code",
      "metadata": {
        "id": "B5xmeHWH5Dbm",
        "colab_type": "code",
        "colab": {
          "base_uri": "https://localhost:8080/",
          "height": 105
        },
        "outputId": "08bd12f4-e67f-45e3-e8f4-6d65a6099ab2"
      },
      "source": [
        "for i in charDataset.take(5):\n",
        "    print(idx2char[i.numpy()])"
      ],
      "execution_count": 120,
      "outputs": [
        {
          "output_type": "stream",
          "text": [
            "F\n",
            "i\n",
            "r\n",
            "s\n",
            "t\n"
          ],
          "name": "stdout"
        }
      ]
    },
    {
      "cell_type": "code",
      "metadata": {
        "id": "tbUiwQxY5DcO",
        "colab_type": "code",
        "colab": {}
      },
      "source": [
        "sequences = charDataset.batch(seqLength + 1, drop_remainder=True)"
      ],
      "execution_count": 121,
      "outputs": []
    },
    {
      "cell_type": "code",
      "metadata": {
        "id": "9tMRXn345Dcq",
        "colab_type": "code",
        "colab": {
          "base_uri": "https://localhost:8080/",
          "height": 105
        },
        "outputId": "93b607c6-49aa-464d-94c0-335774bb65dd"
      },
      "source": [
        "for item in sequences.take(5):\n",
        "    print(repr(\"\".join(idx2char[item.numpy()])))\n",
        "    "
      ],
      "execution_count": 122,
      "outputs": [
        {
          "output_type": "stream",
          "text": [
            "'First Citizen:\\nBefore we proceed any further, hear me speak.\\n\\nAll:\\nSpeak, speak.\\n\\nFirst Citizen:\\nYou '\n",
            "'are all resolved rather to die than to famish?\\n\\nAll:\\nResolved. resolved.\\n\\nFirst Citizen:\\nFirst, you k'\n",
            "\"now Caius Marcius is chief enemy to the people.\\n\\nAll:\\nWe know't, we know't.\\n\\nFirst Citizen:\\nLet us ki\"\n",
            "\"ll him, and we'll have corn at our own price.\\nIs't a verdict?\\n\\nAll:\\nNo more talking on't; let it be d\"\n",
            "'one: away, away!\\n\\nSecond Citizen:\\nOne word, good citizens.\\n\\nFirst Citizen:\\nWe are accounted poor citi'\n"
          ],
          "name": "stdout"
        }
      ]
    },
    {
      "cell_type": "code",
      "metadata": {
        "id": "ZjD8LV4V5Dcz",
        "colab_type": "code",
        "colab": {}
      },
      "source": [
        "def splitInputTarget(chunk):\n",
        "    inputText = chunk[:-1]\n",
        "    targetText = chunk[1:]\n",
        "    return inputText, targetText"
      ],
      "execution_count": 123,
      "outputs": []
    },
    {
      "cell_type": "code",
      "metadata": {
        "id": "hFftVo_55DdF",
        "colab_type": "code",
        "colab": {}
      },
      "source": [
        "dataset = sequences.map(splitInputTarget)"
      ],
      "execution_count": 124,
      "outputs": []
    },
    {
      "cell_type": "code",
      "metadata": {
        "id": "jip4zf0Q5DdW",
        "colab_type": "code",
        "colab": {
          "base_uri": "https://localhost:8080/",
          "height": 52
        },
        "outputId": "53af7882-ba12-4a13-d0ef-fece99025e2a"
      },
      "source": [
        "for inputEx, targetEx in dataset.take(1):\n",
        "    print(\"Input data: \", repr(\"\".join(idx2char[inputEx.numpy()])))\n",
        "    print(\"Target data: \", repr(\"\".join(idx2char[targetEx.numpy()])))"
      ],
      "execution_count": 125,
      "outputs": [
        {
          "output_type": "stream",
          "text": [
            "Input data:  'First Citizen:\\nBefore we proceed any further, hear me speak.\\n\\nAll:\\nSpeak, speak.\\n\\nFirst Citizen:\\nYou'\n",
            "Target data:  'irst Citizen:\\nBefore we proceed any further, hear me speak.\\n\\nAll:\\nSpeak, speak.\\n\\nFirst Citizen:\\nYou '\n"
          ],
          "name": "stdout"
        }
      ]
    },
    {
      "cell_type": "code",
      "metadata": {
        "id": "bHYYrvaT5Ddk",
        "colab_type": "code",
        "colab": {
          "base_uri": "https://localhost:8080/",
          "height": 281
        },
        "outputId": "b3d563df-1544-43e8-b2e4-48c347c59e7a"
      },
      "source": [
        "for i, (inputIdx, targetIdx) in enumerate(zip(inputEx[:5], targetEx[:5])):\n",
        "    print(\"step {:4d}\".format(i))\n",
        "    print(\"  input {} ({:s})\".format(inputIdx, repr(idx2char[inputIdx])))\n",
        "    print(\"  expected output {} ({:s})\".format(targetIdx, repr(idx2char[targetIdx])))\n",
        "    \n",
        "    "
      ],
      "execution_count": 126,
      "outputs": [
        {
          "output_type": "stream",
          "text": [
            "step    0\n",
            "  input 18 ('F')\n",
            "  expected output 47 ('i')\n",
            "step    1\n",
            "  input 47 ('i')\n",
            "  expected output 56 ('r')\n",
            "step    2\n",
            "  input 56 ('r')\n",
            "  expected output 57 ('s')\n",
            "step    3\n",
            "  input 57 ('s')\n",
            "  expected output 58 ('t')\n",
            "step    4\n",
            "  input 58 ('t')\n",
            "  expected output 1 (' ')\n"
          ],
          "name": "stdout"
        }
      ]
    },
    {
      "cell_type": "markdown",
      "metadata": {
        "id": "sOIZ1WVL5Ddy",
        "colab_type": "text"
      },
      "source": [
        "Creating Training Sets"
      ]
    },
    {
      "cell_type": "code",
      "metadata": {
        "id": "v6qtbO2B5Dd-",
        "colab_type": "code",
        "colab": {
          "base_uri": "https://localhost:8080/",
          "height": 35
        },
        "outputId": "aa44cfde-6c30-4e8f-9c99-e3332e213d5e"
      },
      "source": [
        "batchSize = 64\n",
        "bufSize = 10000\n",
        "\n",
        "dataset = dataset.shuffle(bufSize).batch(batchSize, drop_remainder=True)\n",
        "\n",
        "print(dataset)"
      ],
      "execution_count": 127,
      "outputs": [
        {
          "output_type": "stream",
          "text": [
            "<BatchDataset shapes: ((64, 100), (64, 100)), types: (tf.int64, tf.int64)>\n"
          ],
          "name": "stdout"
        }
      ]
    },
    {
      "cell_type": "code",
      "metadata": {
        "id": "3T_qM19f5DeY",
        "colab_type": "code",
        "colab": {}
      },
      "source": [
        "vocabSize = len(vocab)\n",
        "embeddingDim = 256\n",
        "rnnUnits = 1024"
      ],
      "execution_count": 128,
      "outputs": []
    },
    {
      "cell_type": "markdown",
      "metadata": {
        "id": "2slNiKWZ5Deq",
        "colab_type": "text"
      },
      "source": [
        "# BUILDING MODEL"
      ]
    },
    {
      "cell_type": "code",
      "metadata": {
        "id": "NDqdwITj5Des",
        "colab_type": "code",
        "colab": {}
      },
      "source": [
        "def buildModel(vocabSize, embeddingDim, rnnUnits, batchSize):\n",
        "    model = tf.keras.Sequential([\n",
        "        tf.keras.layers.Embedding(vocabSize, embeddingDim, batch_input_shape=[batchSize, None]),\n",
        "        tf.keras.layers.GRU(rnnUnits, return_sequences=True, stateful=True,\n",
        "                           recurrent_initializer=\"glorot_uniform\"),\n",
        "        tf.keras.layers.Dense(vocabSize)\n",
        "    ])\n",
        "    \n",
        "    return model"
      ],
      "execution_count": 129,
      "outputs": []
    },
    {
      "cell_type": "code",
      "metadata": {
        "id": "7c71CKqx5DfK",
        "colab_type": "code",
        "colab": {}
      },
      "source": [
        "model = buildModel(vocabSize=len(vocab), embeddingDim =embeddingDim, rnnUnits=rnnUnits, batchSize=batchSize)"
      ],
      "execution_count": 130,
      "outputs": []
    },
    {
      "cell_type": "code",
      "metadata": {
        "id": "y37UNDX55DfT",
        "colab_type": "code",
        "colab": {
          "base_uri": "https://localhost:8080/",
          "height": 35
        },
        "outputId": "4228cdf3-20db-48d9-91e6-5dce3aef489e"
      },
      "source": [
        "for input_example_batch, target_example_batch in dataset.take(1):\n",
        "  example_batch_predictions = model(input_example_batch)\n",
        "  print(example_batch_predictions.shape, \"# (batch_size, sequence_length, vocab_size)\")"
      ],
      "execution_count": 131,
      "outputs": [
        {
          "output_type": "stream",
          "text": [
            "(64, 100, 65) # (batch_size, sequence_length, vocab_size)\n"
          ],
          "name": "stdout"
        }
      ]
    },
    {
      "cell_type": "code",
      "metadata": {
        "scrolled": true,
        "id": "4_deZc7f5Dfe",
        "colab_type": "code",
        "colab": {
          "base_uri": "https://localhost:8080/",
          "height": 263
        },
        "outputId": "3c823b3d-26f2-4ddb-afc2-c363ab896ce7"
      },
      "source": [
        "model.summary()"
      ],
      "execution_count": 132,
      "outputs": [
        {
          "output_type": "stream",
          "text": [
            "Model: \"sequential_5\"\n",
            "_________________________________________________________________\n",
            "Layer (type)                 Output Shape              Param #   \n",
            "=================================================================\n",
            "embedding_5 (Embedding)      (64, None, 256)           16640     \n",
            "_________________________________________________________________\n",
            "gru_5 (GRU)                  (64, None, 1024)          3938304   \n",
            "_________________________________________________________________\n",
            "dense_5 (Dense)              (64, None, 65)            66625     \n",
            "=================================================================\n",
            "Total params: 4,021,569\n",
            "Trainable params: 4,021,569\n",
            "Non-trainable params: 0\n",
            "_________________________________________________________________\n"
          ],
          "name": "stdout"
        }
      ]
    },
    {
      "cell_type": "code",
      "metadata": {
        "id": "bTCThs0j5DgE",
        "colab_type": "code",
        "colab": {
          "base_uri": "https://localhost:8080/",
          "height": 105
        },
        "outputId": "7c60c158-7382-4c7c-f4b0-98cb52745a60"
      },
      "source": [
        "sampled_indices = tf.random.categorical(example_batch_predictions[0], num_samples=1)\n",
        "sampled_indices = tf.squeeze(sampled_indices,axis=-1).numpy()\n",
        "print(sampled_indices)"
      ],
      "execution_count": 133,
      "outputs": [
        {
          "output_type": "stream",
          "text": [
            "[13 10 24 42 48 27 59 60 35 36 11 59 56 51  3 44  9 19 45 36  8 46  6 55\n",
            " 12 31 61 23 30 64 47 25 30 52 11 55 22 59  1 15  2 60 33  9  9 56 25 37\n",
            " 63 13 20  0  1 24 20 10 50 33 35 63 27 24 23 20 51 11 56 61 47  1 12  4\n",
            " 56 57 33 39 34 53 50 41 61 30 54 24 58 23 39 44  6 33 50 55 21 43 56 61\n",
            " 49  7 63 45]\n"
          ],
          "name": "stdout"
        }
      ]
    },
    {
      "cell_type": "code",
      "metadata": {
        "id": "x1-OEFyv5DgR",
        "colab_type": "code",
        "colab": {
          "base_uri": "https://localhost:8080/",
          "height": 105
        },
        "outputId": "1e3caab7-7a91-4bf2-ad20-a2b8100e479f"
      },
      "source": [
        "print(\"Input: \\n\", repr(\"\".join(idx2char[input_example_batch[0]])))\n",
        "print()\n",
        "print(\"Next Char Predictions: \\n\", repr(\"\".join(idx2char[sampled_indices ])))"
      ],
      "execution_count": 134,
      "outputs": [
        {
          "output_type": "stream",
          "text": [
            "Input: \n",
            " 'Duke of York;\\nAnd in the towns, as they do march along,\\nProclaims him king, and many fly to him:\\nDar'\n",
            "\n",
            "Next Char Predictions: \n",
            " 'A:LdjOuvWX;urm$f3GgX.h,q?SwKRziMRn;qJu C!vU33rMYyAH\\n LH:lUWyOLKHm;rwi ?&rsUaVolcwRpLtKaf,UlqIerwk-yg'\n"
          ],
          "name": "stdout"
        }
      ]
    },
    {
      "cell_type": "code",
      "metadata": {
        "id": "U1JzxWH75Dgc",
        "colab_type": "code",
        "colab": {}
      },
      "source": [
        "def loss(labels, logits):\n",
        "    return tf.keras.losses.sparse_categorical_crossentropy(labels, \n",
        "                                                           logits, \n",
        "                                                           from_logits=True)"
      ],
      "execution_count": 135,
      "outputs": []
    },
    {
      "cell_type": "code",
      "metadata": {
        "id": "_bREWH-s5Dgr",
        "colab_type": "code",
        "colab": {
          "base_uri": "https://localhost:8080/",
          "height": 52
        },
        "outputId": "4cfa70b3-7ca2-41ae-8698-30686edd0677"
      },
      "source": [
        "example_batch_loss  = loss(target_example_batch, example_batch_predictions)\n",
        "print(\"Prediction shape: \", example_batch_predictions.shape, \" # (batch_size, sequence_length, vocab_size)\")\n",
        "print(\"scalar_loss:      \", example_batch_loss.numpy().mean())"
      ],
      "execution_count": 136,
      "outputs": [
        {
          "output_type": "stream",
          "text": [
            "Prediction shape:  (64, 100, 65)  # (batch_size, sequence_length, vocab_size)\n",
            "scalar_loss:       4.1743126\n"
          ],
          "name": "stdout"
        }
      ]
    },
    {
      "cell_type": "markdown",
      "metadata": {
        "id": "_GfiU10D5Dg3",
        "colab_type": "text"
      },
      "source": [
        "# TRAINING MODEL"
      ]
    },
    {
      "cell_type": "code",
      "metadata": {
        "id": "xLkSHpzH5Dg5",
        "colab_type": "code",
        "colab": {}
      },
      "source": [
        "model.compile(optimizer=\"adam\", loss=loss)"
      ],
      "execution_count": 137,
      "outputs": []
    },
    {
      "cell_type": "code",
      "metadata": {
        "id": "1vQRUvrk5DhD",
        "colab_type": "code",
        "colab": {}
      },
      "source": [
        "# Directory where the checkpoints will be saved\n",
        "checkpoint_dir = './training_checkpoints'\n",
        "# Name of the checkpoint files\n",
        "checkpoint_prefix = os.path.join(checkpoint_dir, \"ckpt_{epoch}\")\n",
        "\n",
        "checkpoint_callback=tf.keras.callbacks.ModelCheckpoint(\n",
        "    filepath=checkpoint_prefix,\n",
        "    save_weights_only=True)"
      ],
      "execution_count": 138,
      "outputs": []
    },
    {
      "cell_type": "code",
      "metadata": {
        "id": "iKVDjWsl5DhN",
        "colab_type": "code",
        "colab": {}
      },
      "source": [
        "EPOCHS = 50"
      ],
      "execution_count": 139,
      "outputs": []
    },
    {
      "cell_type": "code",
      "metadata": {
        "id": "jJilSTfV5DhV",
        "colab_type": "code",
        "colab": {
          "base_uri": "https://localhost:8080/",
          "height": 1000
        },
        "outputId": "0903e1fb-e5bf-40bd-bb98-232d5ffb1679"
      },
      "source": [
        "history = model.fit(dataset, epochs=EPOCHS, callbacks=[checkpoint_callback])"
      ],
      "execution_count": 140,
      "outputs": [
        {
          "output_type": "stream",
          "text": [
            "Epoch 1/50\n",
            "172/172 [==============================] - 23s 134ms/step - loss: 2.7157\n",
            "Epoch 2/50\n",
            "172/172 [==============================] - 23s 134ms/step - loss: 1.9725\n",
            "Epoch 3/50\n",
            "172/172 [==============================] - 23s 134ms/step - loss: 1.7038\n",
            "Epoch 4/50\n",
            "172/172 [==============================] - 23s 134ms/step - loss: 1.5506\n",
            "Epoch 5/50\n",
            "172/172 [==============================] - 23s 134ms/step - loss: 1.4604\n",
            "Epoch 6/50\n",
            "172/172 [==============================] - 23s 134ms/step - loss: 1.3978\n",
            "Epoch 7/50\n",
            "172/172 [==============================] - 23s 134ms/step - loss: 1.3517\n",
            "Epoch 8/50\n",
            "172/172 [==============================] - 23s 134ms/step - loss: 1.3135\n",
            "Epoch 9/50\n",
            "172/172 [==============================] - 23s 134ms/step - loss: 1.2788\n",
            "Epoch 10/50\n",
            "172/172 [==============================] - 23s 134ms/step - loss: 1.2450\n",
            "Epoch 11/50\n",
            "172/172 [==============================] - 23s 134ms/step - loss: 1.2125\n",
            "Epoch 12/50\n",
            "172/172 [==============================] - 23s 134ms/step - loss: 1.1802\n",
            "Epoch 13/50\n",
            "172/172 [==============================] - 23s 134ms/step - loss: 1.1480\n",
            "Epoch 14/50\n",
            "172/172 [==============================] - 23s 134ms/step - loss: 1.1145\n",
            "Epoch 15/50\n",
            "172/172 [==============================] - 23s 134ms/step - loss: 1.0809\n",
            "Epoch 16/50\n",
            "172/172 [==============================] - 23s 134ms/step - loss: 1.0458\n",
            "Epoch 17/50\n",
            "172/172 [==============================] - 23s 134ms/step - loss: 1.0105\n",
            "Epoch 18/50\n",
            "172/172 [==============================] - 23s 134ms/step - loss: 0.9728\n",
            "Epoch 19/50\n",
            "172/172 [==============================] - 23s 133ms/step - loss: 0.9380\n",
            "Epoch 20/50\n",
            "172/172 [==============================] - 23s 134ms/step - loss: 0.9041\n",
            "Epoch 21/50\n",
            "172/172 [==============================] - 23s 133ms/step - loss: 0.8721\n",
            "Epoch 22/50\n",
            "172/172 [==============================] - 23s 134ms/step - loss: 0.8412\n",
            "Epoch 23/50\n",
            "172/172 [==============================] - 23s 134ms/step - loss: 0.8140\n",
            "Epoch 24/50\n",
            "172/172 [==============================] - 23s 134ms/step - loss: 0.7888\n",
            "Epoch 25/50\n",
            "172/172 [==============================] - 23s 134ms/step - loss: 0.7669\n",
            "Epoch 26/50\n",
            "172/172 [==============================] - 23s 134ms/step - loss: 0.7483\n",
            "Epoch 27/50\n",
            "172/172 [==============================] - 23s 134ms/step - loss: 0.7321\n",
            "Epoch 28/50\n",
            "172/172 [==============================] - 23s 134ms/step - loss: 0.7178\n",
            "Epoch 29/50\n",
            "172/172 [==============================] - 23s 134ms/step - loss: 0.7063\n",
            "Epoch 30/50\n",
            "172/172 [==============================] - 23s 134ms/step - loss: 0.6929\n",
            "Epoch 31/50\n",
            "172/172 [==============================] - 23s 133ms/step - loss: 0.6823\n",
            "Epoch 32/50\n",
            "172/172 [==============================] - 23s 134ms/step - loss: 0.6755\n",
            "Epoch 33/50\n",
            "172/172 [==============================] - 23s 134ms/step - loss: 0.6677\n",
            "Epoch 34/50\n",
            "172/172 [==============================] - 23s 133ms/step - loss: 0.6627\n",
            "Epoch 35/50\n",
            "172/172 [==============================] - 23s 134ms/step - loss: 0.6591\n",
            "Epoch 36/50\n",
            "172/172 [==============================] - 23s 134ms/step - loss: 0.6517\n",
            "Epoch 37/50\n",
            "172/172 [==============================] - 23s 133ms/step - loss: 0.6488\n",
            "Epoch 38/50\n",
            "172/172 [==============================] - 23s 133ms/step - loss: 0.6470\n",
            "Epoch 39/50\n",
            "172/172 [==============================] - 23s 133ms/step - loss: 0.6420\n",
            "Epoch 40/50\n",
            "172/172 [==============================] - 23s 134ms/step - loss: 0.6408\n",
            "Epoch 41/50\n",
            "172/172 [==============================] - 23s 134ms/step - loss: 0.6379\n",
            "Epoch 42/50\n",
            "172/172 [==============================] - 23s 134ms/step - loss: 0.6377\n",
            "Epoch 43/50\n",
            "172/172 [==============================] - 23s 134ms/step - loss: 0.6376\n",
            "Epoch 44/50\n",
            "172/172 [==============================] - 23s 134ms/step - loss: 0.6380\n",
            "Epoch 45/50\n",
            "172/172 [==============================] - 23s 134ms/step - loss: 0.6366\n",
            "Epoch 46/50\n",
            "172/172 [==============================] - 23s 134ms/step - loss: 0.6347\n",
            "Epoch 47/50\n",
            "172/172 [==============================] - 23s 134ms/step - loss: 0.6358\n",
            "Epoch 48/50\n",
            "172/172 [==============================] - 23s 134ms/step - loss: 0.6327\n",
            "Epoch 49/50\n",
            "172/172 [==============================] - 23s 133ms/step - loss: 0.6347\n",
            "Epoch 50/50\n",
            "172/172 [==============================] - 23s 133ms/step - loss: 0.6387\n"
          ],
          "name": "stdout"
        }
      ]
    },
    {
      "cell_type": "markdown",
      "metadata": {
        "id": "lHWAoXDB5Dhh",
        "colab_type": "text"
      },
      "source": [
        "# PREDICTION"
      ]
    },
    {
      "cell_type": "code",
      "metadata": {
        "id": "SifQ9NGR5Dhp",
        "colab_type": "code",
        "colab": {
          "base_uri": "https://localhost:8080/",
          "height": 220
        },
        "outputId": "bb9bc127-7369-4c20-eba3-636c55862359"
      },
      "source": [
        "model = buildModel(vocabSize, embeddingDim, rnnUnits, batchSize=1)\n",
        "model.load_weights(tf.train.latest_checkpoint(checkpoint_dir))\n",
        "model.build(tf.TensorShape([1, None]))\n",
        "model.summary()"
      ],
      "execution_count": 2,
      "outputs": [
        {
          "output_type": "error",
          "ename": "NameError",
          "evalue": "ignored",
          "traceback": [
            "\u001b[0;31m---------------------------------------------------------------------------\u001b[0m",
            "\u001b[0;31mNameError\u001b[0m                                 Traceback (most recent call last)",
            "\u001b[0;32m<ipython-input-2-363be38bd70a>\u001b[0m in \u001b[0;36m<module>\u001b[0;34m()\u001b[0m\n\u001b[0;32m----> 1\u001b[0;31m \u001b[0mmodel\u001b[0m \u001b[0;34m=\u001b[0m \u001b[0mbuildModel\u001b[0m\u001b[0;34m(\u001b[0m\u001b[0mvocabSize\u001b[0m\u001b[0;34m,\u001b[0m \u001b[0membeddingDim\u001b[0m\u001b[0;34m,\u001b[0m \u001b[0mrnnUnits\u001b[0m\u001b[0;34m,\u001b[0m \u001b[0mbatchSize\u001b[0m\u001b[0;34m=\u001b[0m\u001b[0;36m1\u001b[0m\u001b[0;34m)\u001b[0m\u001b[0;34m\u001b[0m\u001b[0;34m\u001b[0m\u001b[0m\n\u001b[0m\u001b[1;32m      2\u001b[0m \u001b[0mmodel\u001b[0m\u001b[0;34m.\u001b[0m\u001b[0mload_weights\u001b[0m\u001b[0;34m(\u001b[0m\u001b[0mtf\u001b[0m\u001b[0;34m.\u001b[0m\u001b[0mtrain\u001b[0m\u001b[0;34m.\u001b[0m\u001b[0mlatest_checkpoint\u001b[0m\u001b[0;34m(\u001b[0m\u001b[0mcheckpoint_dir\u001b[0m\u001b[0;34m)\u001b[0m\u001b[0;34m)\u001b[0m\u001b[0;34m\u001b[0m\u001b[0;34m\u001b[0m\u001b[0m\n\u001b[1;32m      3\u001b[0m \u001b[0mmodel\u001b[0m\u001b[0;34m.\u001b[0m\u001b[0mbuild\u001b[0m\u001b[0;34m(\u001b[0m\u001b[0mtf\u001b[0m\u001b[0;34m.\u001b[0m\u001b[0mTensorShape\u001b[0m\u001b[0;34m(\u001b[0m\u001b[0;34m[\u001b[0m\u001b[0;36m1\u001b[0m\u001b[0;34m,\u001b[0m \u001b[0;32mNone\u001b[0m\u001b[0;34m]\u001b[0m\u001b[0;34m)\u001b[0m\u001b[0;34m)\u001b[0m\u001b[0;34m\u001b[0m\u001b[0;34m\u001b[0m\u001b[0m\n\u001b[1;32m      4\u001b[0m \u001b[0mmodel\u001b[0m\u001b[0;34m.\u001b[0m\u001b[0msummary\u001b[0m\u001b[0;34m(\u001b[0m\u001b[0;34m)\u001b[0m\u001b[0;34m\u001b[0m\u001b[0;34m\u001b[0m\u001b[0m\n",
            "\u001b[0;31mNameError\u001b[0m: name 'buildModel' is not defined"
          ]
        }
      ]
    },
    {
      "cell_type": "code",
      "metadata": {
        "id": "MaRlISFu5Dh1",
        "colab_type": "code",
        "colab": {}
      },
      "source": [
        "def generateText(model, startString):\n",
        "    numGen = 500\n",
        "    inputEval = [char2idx[s] for s in startString]\n",
        "    inputEval = tf.expand_dims(inputEval, 0)\n",
        "    \n",
        "    textGen = []\n",
        "    temperature = 1.0\n",
        "    \n",
        "    model.reset_states()\n",
        "    \n",
        "    for i in range(numGen):\n",
        "        predictions = model(inputEval)\n",
        "        predictions = tf.squeeze(predictions, 0)\n",
        "        predictions /= temperature\n",
        "        predictedId = tf.random.categorical(predictions, num_samples=1)[-1,0].numpy()\n",
        "        \n",
        "        inputEval = tf.expand_dims([predictedId], 0)\n",
        "        textGen.append(idx2char[predictedId])\n",
        "        \n",
        "    return (startString + \"\".join(textGen))"
      ],
      "execution_count": 148,
      "outputs": []
    },
    {
      "cell_type": "code",
      "metadata": {
        "id": "ejkHZcoX5Diq",
        "colab_type": "code",
        "colab": {
          "base_uri": "https://localhost:8080/",
          "height": 167
        },
        "outputId": "9192d694-f8c1-48b2-f672-6a92390403e8"
      },
      "source": [
        "print(generateText(model, startString =\"HAMLET: \"))"
      ],
      "execution_count": 1,
      "outputs": [
        {
          "output_type": "error",
          "ename": "NameError",
          "evalue": "ignored",
          "traceback": [
            "\u001b[0;31m---------------------------------------------------------------------------\u001b[0m",
            "\u001b[0;31mNameError\u001b[0m                                 Traceback (most recent call last)",
            "\u001b[0;32m<ipython-input-1-6967daa6135a>\u001b[0m in \u001b[0;36m<module>\u001b[0;34m()\u001b[0m\n\u001b[0;32m----> 1\u001b[0;31m \u001b[0mprint\u001b[0m\u001b[0;34m(\u001b[0m\u001b[0mgenerateText\u001b[0m\u001b[0;34m(\u001b[0m\u001b[0mmodel\u001b[0m\u001b[0;34m,\u001b[0m \u001b[0mstartString\u001b[0m \u001b[0;34m=\u001b[0m\u001b[0;34m\"HAMLET: \"\u001b[0m\u001b[0;34m)\u001b[0m\u001b[0;34m)\u001b[0m\u001b[0;34m\u001b[0m\u001b[0;34m\u001b[0m\u001b[0m\n\u001b[0m",
            "\u001b[0;31mNameError\u001b[0m: name 'generateText' is not defined"
          ]
        }
      ]
    },
    {
      "cell_type": "code",
      "metadata": {
        "id": "TZkBGP5g5Diz",
        "colab_type": "code",
        "colab": {}
      },
      "source": [
        ""
      ],
      "execution_count": 143,
      "outputs": []
    }
  ]
}